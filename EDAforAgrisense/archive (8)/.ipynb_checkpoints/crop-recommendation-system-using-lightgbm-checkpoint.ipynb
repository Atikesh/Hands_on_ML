{
 "cells": [
  {
   "cell_type": "markdown",
   "id": "bf06a9a1",
   "metadata": {
    "papermill": {
     "duration": 0.034415,
     "end_time": "2024-03-16T12:35:40.196700",
     "exception": false,
     "start_time": "2024-03-16T12:35:40.162285",
     "status": "completed"
    },
    "tags": []
   },
   "source": [
    "### Data fields\n",
    "\n",
    "N - ratio of Nitrogen content in soil -  kg/ha<br>\n",
    "P - ratio of Phosphorous content in soil - kg/ha  <br>\n",
    "K - ratio of Potassium content in soil - kg/ha  <br>\n",
    "temperature - temperature in degree Celsius <br>\n",
    "humidity - relative humidity in % <br>\n",
    "ph - ph value of the soil <br>\n",
    "rainfall - rainfall in mm <br>"
   ]
  },
  {
   "cell_type": "markdown",
   "id": "45e6b676",
   "metadata": {
    "papermill": {
     "duration": 0.032825,
     "end_time": "2024-03-16T12:35:40.264352",
     "exception": false,
     "start_time": "2024-03-16T12:35:40.231527",
     "status": "completed"
    },
    "tags": []
   },
   "source": [
    "<h1 style='color:blue'>Import libraries</h1>"
   ]
  },
  {
   "cell_type": "code",
   "execution_count": 1,
   "id": "95bad43a",
   "metadata": {
    "_cell_guid": "b1076dfc-b9ad-4769-8c92-a6c4dae69d19",
    "_uuid": "8f2839f25d086af736a60e9eeb907d3b93b6e0e5",
    "execution": {
     "iopub.execute_input": "2024-03-16T12:35:40.339711Z",
     "iopub.status.busy": "2024-03-16T12:35:40.335749Z",
     "iopub.status.idle": "2024-03-16T12:35:42.578857Z",
     "shell.execute_reply": "2024-03-16T12:35:42.578089Z",
     "shell.execute_reply.started": "2021-10-03T08:53:01.310084Z"
    },
    "papermill": {
     "duration": 2.283226,
     "end_time": "2024-03-16T12:35:42.579044",
     "exception": false,
     "start_time": "2024-03-16T12:35:40.295818",
     "status": "completed"
    },
    "tags": []
   },
   "outputs": [],
   "source": [
    "import pandas as pd\n",
    "import numpy as np\n",
    "import random\n",
    "\n",
    "import matplotlib.pyplot as plt\n",
    "import seaborn as sns\n",
    "\n",
    "import plotly.graph_objects as go\n",
    "import plotly.express as px\n",
    "from plotly.subplots import make_subplots\n",
    "\n",
    "colorarr = ['#0592D0','#Cd7f32', '#E97451', '#Bdb76b', '#954535', '#C2b280', '#808000','#C2b280', '#E4d008', '#9acd32', '#Eedc82', '#E4d96f',\n",
    "           '#32cd32','#39ff14','#00ff7f', '#008080', '#36454f', '#F88379', '#Ff4500', '#Ffb347', '#A94064', '#E75480', '#Ffb6c1', '#E5e4e2',\n",
    "           '#Faf0e6', '#8c92ac', '#Dbd7d2','#A7a6ba', '#B38b6d']"
   ]
  },
  {
   "cell_type": "markdown",
   "id": "e3f6444b",
   "metadata": {
    "papermill": {
     "duration": 0.031219,
     "end_time": "2024-03-16T12:35:42.641592",
     "exception": false,
     "start_time": "2024-03-16T12:35:42.610373",
     "status": "completed"
    },
    "tags": []
   },
   "source": [
    "<h1 style='color:blue'>Import dataset</h1>"
   ]
  },
  {
   "cell_type": "code",
   "execution_count": 2,
   "id": "1f138311",
   "metadata": {
    "execution": {
     "iopub.execute_input": "2024-03-16T12:35:42.710922Z",
     "iopub.status.busy": "2024-03-16T12:35:42.710089Z",
     "iopub.status.idle": "2024-03-16T12:35:42.749257Z",
     "shell.execute_reply": "2024-03-16T12:35:42.749819Z",
     "shell.execute_reply.started": "2021-10-03T08:53:03.981668Z"
    },
    "papermill": {
     "duration": 0.076372,
     "end_time": "2024-03-16T12:35:42.750014",
     "exception": false,
     "start_time": "2024-03-16T12:35:42.673642",
     "status": "completed"
    },
    "tags": []
   },
   "outputs": [
    {
     "ename": "FileNotFoundError",
     "evalue": "[Errno 2] No such file or directory: '../input/crop-recommendation-dataset/Crop_recommendation.csv'",
     "output_type": "error",
     "traceback": [
      "\u001b[1;31m---------------------------------------------------------------------------\u001b[0m",
      "\u001b[1;31mFileNotFoundError\u001b[0m                         Traceback (most recent call last)",
      "Cell \u001b[1;32mIn[2], line 1\u001b[0m\n\u001b[1;32m----> 1\u001b[0m cropdf \u001b[38;5;241m=\u001b[39m \u001b[43mpd\u001b[49m\u001b[38;5;241;43m.\u001b[39;49m\u001b[43mread_csv\u001b[49m\u001b[43m(\u001b[49m\u001b[38;5;124;43m\"\u001b[39;49m\u001b[38;5;124;43m../input/crop-recommendation-dataset/Crop_recommendation.csv\u001b[39;49m\u001b[38;5;124;43m\"\u001b[39;49m\u001b[43m)\u001b[49m\n\u001b[0;32m      2\u001b[0m cropdf\u001b[38;5;241m.\u001b[39mhead()\n",
      "File \u001b[1;32m~\\anaconda3\\lib\\site-packages\\pandas\\util\\_decorators.py:211\u001b[0m, in \u001b[0;36mdeprecate_kwarg.<locals>._deprecate_kwarg.<locals>.wrapper\u001b[1;34m(*args, **kwargs)\u001b[0m\n\u001b[0;32m    209\u001b[0m     \u001b[38;5;28;01melse\u001b[39;00m:\n\u001b[0;32m    210\u001b[0m         kwargs[new_arg_name] \u001b[38;5;241m=\u001b[39m new_arg_value\n\u001b[1;32m--> 211\u001b[0m \u001b[38;5;28;01mreturn\u001b[39;00m func(\u001b[38;5;241m*\u001b[39margs, \u001b[38;5;241m*\u001b[39m\u001b[38;5;241m*\u001b[39mkwargs)\n",
      "File \u001b[1;32m~\\anaconda3\\lib\\site-packages\\pandas\\util\\_decorators.py:331\u001b[0m, in \u001b[0;36mdeprecate_nonkeyword_arguments.<locals>.decorate.<locals>.wrapper\u001b[1;34m(*args, **kwargs)\u001b[0m\n\u001b[0;32m    325\u001b[0m \u001b[38;5;28;01mif\u001b[39;00m \u001b[38;5;28mlen\u001b[39m(args) \u001b[38;5;241m>\u001b[39m num_allow_args:\n\u001b[0;32m    326\u001b[0m     warnings\u001b[38;5;241m.\u001b[39mwarn(\n\u001b[0;32m    327\u001b[0m         msg\u001b[38;5;241m.\u001b[39mformat(arguments\u001b[38;5;241m=\u001b[39m_format_argument_list(allow_args)),\n\u001b[0;32m    328\u001b[0m         \u001b[38;5;167;01mFutureWarning\u001b[39;00m,\n\u001b[0;32m    329\u001b[0m         stacklevel\u001b[38;5;241m=\u001b[39mfind_stack_level(),\n\u001b[0;32m    330\u001b[0m     )\n\u001b[1;32m--> 331\u001b[0m \u001b[38;5;28;01mreturn\u001b[39;00m func(\u001b[38;5;241m*\u001b[39margs, \u001b[38;5;241m*\u001b[39m\u001b[38;5;241m*\u001b[39mkwargs)\n",
      "File \u001b[1;32m~\\anaconda3\\lib\\site-packages\\pandas\\io\\parsers\\readers.py:950\u001b[0m, in \u001b[0;36mread_csv\u001b[1;34m(filepath_or_buffer, sep, delimiter, header, names, index_col, usecols, squeeze, prefix, mangle_dupe_cols, dtype, engine, converters, true_values, false_values, skipinitialspace, skiprows, skipfooter, nrows, na_values, keep_default_na, na_filter, verbose, skip_blank_lines, parse_dates, infer_datetime_format, keep_date_col, date_parser, dayfirst, cache_dates, iterator, chunksize, compression, thousands, decimal, lineterminator, quotechar, quoting, doublequote, escapechar, comment, encoding, encoding_errors, dialect, error_bad_lines, warn_bad_lines, on_bad_lines, delim_whitespace, low_memory, memory_map, float_precision, storage_options)\u001b[0m\n\u001b[0;32m    935\u001b[0m kwds_defaults \u001b[38;5;241m=\u001b[39m _refine_defaults_read(\n\u001b[0;32m    936\u001b[0m     dialect,\n\u001b[0;32m    937\u001b[0m     delimiter,\n\u001b[1;32m   (...)\u001b[0m\n\u001b[0;32m    946\u001b[0m     defaults\u001b[38;5;241m=\u001b[39m{\u001b[38;5;124m\"\u001b[39m\u001b[38;5;124mdelimiter\u001b[39m\u001b[38;5;124m\"\u001b[39m: \u001b[38;5;124m\"\u001b[39m\u001b[38;5;124m,\u001b[39m\u001b[38;5;124m\"\u001b[39m},\n\u001b[0;32m    947\u001b[0m )\n\u001b[0;32m    948\u001b[0m kwds\u001b[38;5;241m.\u001b[39mupdate(kwds_defaults)\n\u001b[1;32m--> 950\u001b[0m \u001b[38;5;28;01mreturn\u001b[39;00m \u001b[43m_read\u001b[49m\u001b[43m(\u001b[49m\u001b[43mfilepath_or_buffer\u001b[49m\u001b[43m,\u001b[49m\u001b[43m \u001b[49m\u001b[43mkwds\u001b[49m\u001b[43m)\u001b[49m\n",
      "File \u001b[1;32m~\\anaconda3\\lib\\site-packages\\pandas\\io\\parsers\\readers.py:605\u001b[0m, in \u001b[0;36m_read\u001b[1;34m(filepath_or_buffer, kwds)\u001b[0m\n\u001b[0;32m    602\u001b[0m _validate_names(kwds\u001b[38;5;241m.\u001b[39mget(\u001b[38;5;124m\"\u001b[39m\u001b[38;5;124mnames\u001b[39m\u001b[38;5;124m\"\u001b[39m, \u001b[38;5;28;01mNone\u001b[39;00m))\n\u001b[0;32m    604\u001b[0m \u001b[38;5;66;03m# Create the parser.\u001b[39;00m\n\u001b[1;32m--> 605\u001b[0m parser \u001b[38;5;241m=\u001b[39m TextFileReader(filepath_or_buffer, \u001b[38;5;241m*\u001b[39m\u001b[38;5;241m*\u001b[39mkwds)\n\u001b[0;32m    607\u001b[0m \u001b[38;5;28;01mif\u001b[39;00m chunksize \u001b[38;5;129;01mor\u001b[39;00m iterator:\n\u001b[0;32m    608\u001b[0m     \u001b[38;5;28;01mreturn\u001b[39;00m parser\n",
      "File \u001b[1;32m~\\anaconda3\\lib\\site-packages\\pandas\\io\\parsers\\readers.py:1442\u001b[0m, in \u001b[0;36mTextFileReader.__init__\u001b[1;34m(self, f, engine, **kwds)\u001b[0m\n\u001b[0;32m   1439\u001b[0m     \u001b[38;5;28mself\u001b[39m\u001b[38;5;241m.\u001b[39moptions[\u001b[38;5;124m\"\u001b[39m\u001b[38;5;124mhas_index_names\u001b[39m\u001b[38;5;124m\"\u001b[39m] \u001b[38;5;241m=\u001b[39m kwds[\u001b[38;5;124m\"\u001b[39m\u001b[38;5;124mhas_index_names\u001b[39m\u001b[38;5;124m\"\u001b[39m]\n\u001b[0;32m   1441\u001b[0m \u001b[38;5;28mself\u001b[39m\u001b[38;5;241m.\u001b[39mhandles: IOHandles \u001b[38;5;241m|\u001b[39m \u001b[38;5;28;01mNone\u001b[39;00m \u001b[38;5;241m=\u001b[39m \u001b[38;5;28;01mNone\u001b[39;00m\n\u001b[1;32m-> 1442\u001b[0m \u001b[38;5;28mself\u001b[39m\u001b[38;5;241m.\u001b[39m_engine \u001b[38;5;241m=\u001b[39m \u001b[38;5;28;43mself\u001b[39;49m\u001b[38;5;241;43m.\u001b[39;49m\u001b[43m_make_engine\u001b[49m\u001b[43m(\u001b[49m\u001b[43mf\u001b[49m\u001b[43m,\u001b[49m\u001b[43m \u001b[49m\u001b[38;5;28;43mself\u001b[39;49m\u001b[38;5;241;43m.\u001b[39;49m\u001b[43mengine\u001b[49m\u001b[43m)\u001b[49m\n",
      "File \u001b[1;32m~\\anaconda3\\lib\\site-packages\\pandas\\io\\parsers\\readers.py:1735\u001b[0m, in \u001b[0;36mTextFileReader._make_engine\u001b[1;34m(self, f, engine)\u001b[0m\n\u001b[0;32m   1733\u001b[0m     \u001b[38;5;28;01mif\u001b[39;00m \u001b[38;5;124m\"\u001b[39m\u001b[38;5;124mb\u001b[39m\u001b[38;5;124m\"\u001b[39m \u001b[38;5;129;01mnot\u001b[39;00m \u001b[38;5;129;01min\u001b[39;00m mode:\n\u001b[0;32m   1734\u001b[0m         mode \u001b[38;5;241m+\u001b[39m\u001b[38;5;241m=\u001b[39m \u001b[38;5;124m\"\u001b[39m\u001b[38;5;124mb\u001b[39m\u001b[38;5;124m\"\u001b[39m\n\u001b[1;32m-> 1735\u001b[0m \u001b[38;5;28mself\u001b[39m\u001b[38;5;241m.\u001b[39mhandles \u001b[38;5;241m=\u001b[39m \u001b[43mget_handle\u001b[49m\u001b[43m(\u001b[49m\n\u001b[0;32m   1736\u001b[0m \u001b[43m    \u001b[49m\u001b[43mf\u001b[49m\u001b[43m,\u001b[49m\n\u001b[0;32m   1737\u001b[0m \u001b[43m    \u001b[49m\u001b[43mmode\u001b[49m\u001b[43m,\u001b[49m\n\u001b[0;32m   1738\u001b[0m \u001b[43m    \u001b[49m\u001b[43mencoding\u001b[49m\u001b[38;5;241;43m=\u001b[39;49m\u001b[38;5;28;43mself\u001b[39;49m\u001b[38;5;241;43m.\u001b[39;49m\u001b[43moptions\u001b[49m\u001b[38;5;241;43m.\u001b[39;49m\u001b[43mget\u001b[49m\u001b[43m(\u001b[49m\u001b[38;5;124;43m\"\u001b[39;49m\u001b[38;5;124;43mencoding\u001b[39;49m\u001b[38;5;124;43m\"\u001b[39;49m\u001b[43m,\u001b[49m\u001b[43m \u001b[49m\u001b[38;5;28;43;01mNone\u001b[39;49;00m\u001b[43m)\u001b[49m\u001b[43m,\u001b[49m\n\u001b[0;32m   1739\u001b[0m \u001b[43m    \u001b[49m\u001b[43mcompression\u001b[49m\u001b[38;5;241;43m=\u001b[39;49m\u001b[38;5;28;43mself\u001b[39;49m\u001b[38;5;241;43m.\u001b[39;49m\u001b[43moptions\u001b[49m\u001b[38;5;241;43m.\u001b[39;49m\u001b[43mget\u001b[49m\u001b[43m(\u001b[49m\u001b[38;5;124;43m\"\u001b[39;49m\u001b[38;5;124;43mcompression\u001b[39;49m\u001b[38;5;124;43m\"\u001b[39;49m\u001b[43m,\u001b[49m\u001b[43m \u001b[49m\u001b[38;5;28;43;01mNone\u001b[39;49;00m\u001b[43m)\u001b[49m\u001b[43m,\u001b[49m\n\u001b[0;32m   1740\u001b[0m \u001b[43m    \u001b[49m\u001b[43mmemory_map\u001b[49m\u001b[38;5;241;43m=\u001b[39;49m\u001b[38;5;28;43mself\u001b[39;49m\u001b[38;5;241;43m.\u001b[39;49m\u001b[43moptions\u001b[49m\u001b[38;5;241;43m.\u001b[39;49m\u001b[43mget\u001b[49m\u001b[43m(\u001b[49m\u001b[38;5;124;43m\"\u001b[39;49m\u001b[38;5;124;43mmemory_map\u001b[39;49m\u001b[38;5;124;43m\"\u001b[39;49m\u001b[43m,\u001b[49m\u001b[43m \u001b[49m\u001b[38;5;28;43;01mFalse\u001b[39;49;00m\u001b[43m)\u001b[49m\u001b[43m,\u001b[49m\n\u001b[0;32m   1741\u001b[0m \u001b[43m    \u001b[49m\u001b[43mis_text\u001b[49m\u001b[38;5;241;43m=\u001b[39;49m\u001b[43mis_text\u001b[49m\u001b[43m,\u001b[49m\n\u001b[0;32m   1742\u001b[0m \u001b[43m    \u001b[49m\u001b[43merrors\u001b[49m\u001b[38;5;241;43m=\u001b[39;49m\u001b[38;5;28;43mself\u001b[39;49m\u001b[38;5;241;43m.\u001b[39;49m\u001b[43moptions\u001b[49m\u001b[38;5;241;43m.\u001b[39;49m\u001b[43mget\u001b[49m\u001b[43m(\u001b[49m\u001b[38;5;124;43m\"\u001b[39;49m\u001b[38;5;124;43mencoding_errors\u001b[39;49m\u001b[38;5;124;43m\"\u001b[39;49m\u001b[43m,\u001b[49m\u001b[43m \u001b[49m\u001b[38;5;124;43m\"\u001b[39;49m\u001b[38;5;124;43mstrict\u001b[39;49m\u001b[38;5;124;43m\"\u001b[39;49m\u001b[43m)\u001b[49m\u001b[43m,\u001b[49m\n\u001b[0;32m   1743\u001b[0m \u001b[43m    \u001b[49m\u001b[43mstorage_options\u001b[49m\u001b[38;5;241;43m=\u001b[39;49m\u001b[38;5;28;43mself\u001b[39;49m\u001b[38;5;241;43m.\u001b[39;49m\u001b[43moptions\u001b[49m\u001b[38;5;241;43m.\u001b[39;49m\u001b[43mget\u001b[49m\u001b[43m(\u001b[49m\u001b[38;5;124;43m\"\u001b[39;49m\u001b[38;5;124;43mstorage_options\u001b[39;49m\u001b[38;5;124;43m\"\u001b[39;49m\u001b[43m,\u001b[49m\u001b[43m \u001b[49m\u001b[38;5;28;43;01mNone\u001b[39;49;00m\u001b[43m)\u001b[49m\u001b[43m,\u001b[49m\n\u001b[0;32m   1744\u001b[0m \u001b[43m\u001b[49m\u001b[43m)\u001b[49m\n\u001b[0;32m   1745\u001b[0m \u001b[38;5;28;01massert\u001b[39;00m \u001b[38;5;28mself\u001b[39m\u001b[38;5;241m.\u001b[39mhandles \u001b[38;5;129;01mis\u001b[39;00m \u001b[38;5;129;01mnot\u001b[39;00m \u001b[38;5;28;01mNone\u001b[39;00m\n\u001b[0;32m   1746\u001b[0m f \u001b[38;5;241m=\u001b[39m \u001b[38;5;28mself\u001b[39m\u001b[38;5;241m.\u001b[39mhandles\u001b[38;5;241m.\u001b[39mhandle\n",
      "File \u001b[1;32m~\\anaconda3\\lib\\site-packages\\pandas\\io\\common.py:856\u001b[0m, in \u001b[0;36mget_handle\u001b[1;34m(path_or_buf, mode, encoding, compression, memory_map, is_text, errors, storage_options)\u001b[0m\n\u001b[0;32m    851\u001b[0m \u001b[38;5;28;01melif\u001b[39;00m \u001b[38;5;28misinstance\u001b[39m(handle, \u001b[38;5;28mstr\u001b[39m):\n\u001b[0;32m    852\u001b[0m     \u001b[38;5;66;03m# Check whether the filename is to be opened in binary mode.\u001b[39;00m\n\u001b[0;32m    853\u001b[0m     \u001b[38;5;66;03m# Binary mode does not support 'encoding' and 'newline'.\u001b[39;00m\n\u001b[0;32m    854\u001b[0m     \u001b[38;5;28;01mif\u001b[39;00m ioargs\u001b[38;5;241m.\u001b[39mencoding \u001b[38;5;129;01mand\u001b[39;00m \u001b[38;5;124m\"\u001b[39m\u001b[38;5;124mb\u001b[39m\u001b[38;5;124m\"\u001b[39m \u001b[38;5;129;01mnot\u001b[39;00m \u001b[38;5;129;01min\u001b[39;00m ioargs\u001b[38;5;241m.\u001b[39mmode:\n\u001b[0;32m    855\u001b[0m         \u001b[38;5;66;03m# Encoding\u001b[39;00m\n\u001b[1;32m--> 856\u001b[0m         handle \u001b[38;5;241m=\u001b[39m \u001b[38;5;28;43mopen\u001b[39;49m\u001b[43m(\u001b[49m\n\u001b[0;32m    857\u001b[0m \u001b[43m            \u001b[49m\u001b[43mhandle\u001b[49m\u001b[43m,\u001b[49m\n\u001b[0;32m    858\u001b[0m \u001b[43m            \u001b[49m\u001b[43mioargs\u001b[49m\u001b[38;5;241;43m.\u001b[39;49m\u001b[43mmode\u001b[49m\u001b[43m,\u001b[49m\n\u001b[0;32m    859\u001b[0m \u001b[43m            \u001b[49m\u001b[43mencoding\u001b[49m\u001b[38;5;241;43m=\u001b[39;49m\u001b[43mioargs\u001b[49m\u001b[38;5;241;43m.\u001b[39;49m\u001b[43mencoding\u001b[49m\u001b[43m,\u001b[49m\n\u001b[0;32m    860\u001b[0m \u001b[43m            \u001b[49m\u001b[43merrors\u001b[49m\u001b[38;5;241;43m=\u001b[39;49m\u001b[43merrors\u001b[49m\u001b[43m,\u001b[49m\n\u001b[0;32m    861\u001b[0m \u001b[43m            \u001b[49m\u001b[43mnewline\u001b[49m\u001b[38;5;241;43m=\u001b[39;49m\u001b[38;5;124;43m\"\u001b[39;49m\u001b[38;5;124;43m\"\u001b[39;49m\u001b[43m,\u001b[49m\n\u001b[0;32m    862\u001b[0m \u001b[43m        \u001b[49m\u001b[43m)\u001b[49m\n\u001b[0;32m    863\u001b[0m     \u001b[38;5;28;01melse\u001b[39;00m:\n\u001b[0;32m    864\u001b[0m         \u001b[38;5;66;03m# Binary mode\u001b[39;00m\n\u001b[0;32m    865\u001b[0m         handle \u001b[38;5;241m=\u001b[39m \u001b[38;5;28mopen\u001b[39m(handle, ioargs\u001b[38;5;241m.\u001b[39mmode)\n",
      "\u001b[1;31mFileNotFoundError\u001b[0m: [Errno 2] No such file or directory: '../input/crop-recommendation-dataset/Crop_recommendation.csv'"
     ]
    }
   ],
   "source": [
    "cropdf = pd.read_csv(\"../input/crop-recommendation-dataset/Crop_recommendation.csv\")\n",
    "cropdf.head()"
   ]
  },
  {
   "cell_type": "code",
   "execution_count": null,
   "id": "2a90c052",
   "metadata": {
    "execution": {
     "iopub.execute_input": "2024-03-16T12:35:42.829014Z",
     "iopub.status.busy": "2024-03-16T12:35:42.828243Z",
     "iopub.status.idle": "2024-03-16T12:35:42.835093Z",
     "shell.execute_reply": "2024-03-16T12:35:42.835736Z",
     "shell.execute_reply.started": "2021-10-03T08:53:04.025779Z"
    },
    "papermill": {
     "duration": 0.050709,
     "end_time": "2024-03-16T12:35:42.835923",
     "exception": false,
     "start_time": "2024-03-16T12:35:42.785214",
     "status": "completed"
    },
    "tags": []
   },
   "outputs": [],
   "source": [
    "cropdf.shape"
   ]
  },
  {
   "cell_type": "code",
   "execution_count": null,
   "id": "8276df0b",
   "metadata": {
    "execution": {
     "iopub.execute_input": "2024-03-16T12:35:42.907208Z",
     "iopub.status.busy": "2024-03-16T12:35:42.906487Z",
     "iopub.status.idle": "2024-03-16T12:35:42.913426Z",
     "shell.execute_reply": "2024-03-16T12:35:42.914086Z",
     "shell.execute_reply.started": "2021-10-03T08:53:04.035484Z"
    },
    "papermill": {
     "duration": 0.044374,
     "end_time": "2024-03-16T12:35:42.914287",
     "exception": false,
     "start_time": "2024-03-16T12:35:42.869913",
     "status": "completed"
    },
    "tags": []
   },
   "outputs": [],
   "source": [
    "cropdf.columns"
   ]
  },
  {
   "cell_type": "markdown",
   "id": "2919d4a7",
   "metadata": {
    "papermill": {
     "duration": 0.033337,
     "end_time": "2024-03-16T12:35:42.983833",
     "exception": false,
     "start_time": "2024-03-16T12:35:42.950496",
     "status": "completed"
    },
    "tags": []
   },
   "source": [
    "<h1 style='color:blue'>Check Null and NA values</h1>"
   ]
  },
  {
   "cell_type": "code",
   "execution_count": null,
   "id": "9945b012",
   "metadata": {
    "execution": {
     "iopub.execute_input": "2024-03-16T12:35:43.062563Z",
     "iopub.status.busy": "2024-03-16T12:35:43.061587Z",
     "iopub.status.idle": "2024-03-16T12:35:43.068759Z",
     "shell.execute_reply": "2024-03-16T12:35:43.069395Z",
     "shell.execute_reply.started": "2021-10-03T08:53:04.05113Z"
    },
    "papermill": {
     "duration": 0.048976,
     "end_time": "2024-03-16T12:35:43.069649",
     "exception": false,
     "start_time": "2024-03-16T12:35:43.020673",
     "status": "completed"
    },
    "tags": []
   },
   "outputs": [],
   "source": [
    "cropdf.isnull().any()"
   ]
  },
  {
   "cell_type": "markdown",
   "id": "50b585b9",
   "metadata": {
    "papermill": {
     "duration": 0.033158,
     "end_time": "2024-03-16T12:35:43.139140",
     "exception": false,
     "start_time": "2024-03-16T12:35:43.105982",
     "status": "completed"
    },
    "tags": []
   },
   "source": [
    "<h1 style='color:blue'>List of various crops</h1>"
   ]
  },
  {
   "cell_type": "code",
   "execution_count": null,
   "id": "1499ae17",
   "metadata": {
    "execution": {
     "iopub.execute_input": "2024-03-16T12:35:43.218311Z",
     "iopub.status.busy": "2024-03-16T12:35:43.217607Z",
     "iopub.status.idle": "2024-03-16T12:35:43.224084Z",
     "shell.execute_reply": "2024-03-16T12:35:43.224911Z",
     "shell.execute_reply.started": "2021-10-03T08:53:04.070822Z"
    },
    "papermill": {
     "duration": 0.052427,
     "end_time": "2024-03-16T12:35:43.225147",
     "exception": false,
     "start_time": "2024-03-16T12:35:43.172720",
     "status": "completed"
    },
    "tags": []
   },
   "outputs": [],
   "source": [
    "print(\"Number of various crops: \", len(cropdf['label'].unique()))\n",
    "print(\"List of crops: \", cropdf['label'].unique())"
   ]
  },
  {
   "cell_type": "code",
   "execution_count": null,
   "id": "7042db10",
   "metadata": {
    "execution": {
     "iopub.execute_input": "2024-03-16T12:35:43.306758Z",
     "iopub.status.busy": "2024-03-16T12:35:43.306058Z",
     "iopub.status.idle": "2024-03-16T12:35:43.318226Z",
     "shell.execute_reply": "2024-03-16T12:35:43.317611Z",
     "shell.execute_reply.started": "2021-10-03T08:53:04.087041Z"
    },
    "papermill": {
     "duration": 0.048726,
     "end_time": "2024-03-16T12:35:43.318381",
     "exception": false,
     "start_time": "2024-03-16T12:35:43.269655",
     "status": "completed"
    },
    "tags": []
   },
   "outputs": [],
   "source": [
    "cropdf['label'].value_counts()"
   ]
  },
  {
   "cell_type": "code",
   "execution_count": null,
   "id": "4f5fb74c",
   "metadata": {
    "execution": {
     "iopub.execute_input": "2024-03-16T12:35:43.398077Z",
     "iopub.status.busy": "2024-03-16T12:35:43.397299Z",
     "iopub.status.idle": "2024-03-16T12:35:43.426678Z",
     "shell.execute_reply": "2024-03-16T12:35:43.427410Z",
     "shell.execute_reply.started": "2021-10-03T08:53:04.109413Z"
    },
    "papermill": {
     "duration": 0.075238,
     "end_time": "2024-03-16T12:35:43.427660",
     "exception": false,
     "start_time": "2024-03-16T12:35:43.352422",
     "status": "completed"
    },
    "tags": []
   },
   "outputs": [],
   "source": [
    "crop_summary = pd.pivot_table(cropdf,index=['label'],aggfunc='mean')\n",
    "crop_summary.head()"
   ]
  },
  {
   "cell_type": "markdown",
   "id": "cbdcfcc3",
   "metadata": {
    "papermill": {
     "duration": 0.034181,
     "end_time": "2024-03-16T12:35:43.499375",
     "exception": false,
     "start_time": "2024-03-16T12:35:43.465194",
     "status": "completed"
    },
    "tags": []
   },
   "source": [
    "<h1 style='color:blue'>Data Visualization and analysis</h1>"
   ]
  },
  {
   "cell_type": "markdown",
   "id": "799a01b2",
   "metadata": {
    "papermill": {
     "duration": 0.033928,
     "end_time": "2024-03-16T12:35:43.567759",
     "exception": false,
     "start_time": "2024-03-16T12:35:43.533831",
     "status": "completed"
    },
    "tags": []
   },
   "source": [
    "<h3 style='color:red'>Nitrogen Analysis</h3>"
   ]
  },
  {
   "cell_type": "code",
   "execution_count": null,
   "id": "03cdbf4c",
   "metadata": {
    "_kg_hide-input": false,
    "execution": {
     "iopub.execute_input": "2024-03-16T12:35:43.639266Z",
     "iopub.status.busy": "2024-03-16T12:35:43.638570Z",
     "iopub.status.idle": "2024-03-16T12:35:43.974094Z",
     "shell.execute_reply": "2024-03-16T12:35:43.974585Z",
     "shell.execute_reply.started": "2021-10-03T08:53:04.152463Z"
    },
    "papermill": {
     "duration": 0.372968,
     "end_time": "2024-03-16T12:35:43.974775",
     "exception": false,
     "start_time": "2024-03-16T12:35:43.601807",
     "status": "completed"
    },
    "tags": []
   },
   "outputs": [],
   "source": [
    "crop_summary_N = crop_summary.sort_values(by='N', ascending=False)\n",
    "  \n",
    "fig = make_subplots(rows=1, cols=2)\n",
    "\n",
    "top = {\n",
    "    'y' : crop_summary_N['N'][0:10].sort_values().index,\n",
    "    'x' : crop_summary_N['N'][0:10].sort_values()\n",
    "}\n",
    "\n",
    "last = {\n",
    "    'y' : crop_summary_N['N'][-10:].index,\n",
    "    'x' : crop_summary_N['N'][-10:]\n",
    "}\n",
    "\n",
    "fig.add_trace(\n",
    "    go.Bar(top,\n",
    "           name=\"Most nitrogen required\",\n",
    "           marker_color=random.choice(colorarr),\n",
    "           orientation='h',\n",
    "          text=top['x']),\n",
    "    \n",
    "    row=1, col=1\n",
    ")\n",
    "\n",
    "fig.add_trace(\n",
    "    go.Bar(last,\n",
    "           name=\"Least nitrogen required\",\n",
    "           marker_color=random.choice(colorarr),\n",
    "           orientation='h',\n",
    "          text=last['x']),\n",
    "    row=1, col=2\n",
    ")\n",
    "fig.update_traces(texttemplate='%{text}', textposition='inside')\n",
    "fig.update_layout(title_text=\"Nitrogen (N)\",\n",
    "                  plot_bgcolor='white',\n",
    "                  font_size=12, \n",
    "                  font_color='black',\n",
    "                 height=500)\n",
    "\n",
    "fig.update_xaxes(showgrid=False)\n",
    "fig.update_yaxes(showgrid=False)\n",
    "fig.show()\n"
   ]
  },
  {
   "cell_type": "markdown",
   "id": "9ca559fc",
   "metadata": {
    "papermill": {
     "duration": 0.038248,
     "end_time": "2024-03-16T12:35:44.048002",
     "exception": false,
     "start_time": "2024-03-16T12:35:44.009754",
     "status": "completed"
    },
    "tags": []
   },
   "source": []
  },
  {
   "cell_type": "markdown",
   "id": "8aa24c93",
   "metadata": {
    "papermill": {
     "duration": 0.035872,
     "end_time": "2024-03-16T12:35:44.118948",
     "exception": false,
     "start_time": "2024-03-16T12:35:44.083076",
     "status": "completed"
    },
    "tags": []
   },
   "source": [
    "<h3 style='color:red'>Phosphorus Analysis</h3>"
   ]
  },
  {
   "cell_type": "code",
   "execution_count": null,
   "id": "6c0302d4",
   "metadata": {
    "execution": {
     "iopub.execute_input": "2024-03-16T12:35:44.193366Z",
     "iopub.status.busy": "2024-03-16T12:35:44.192613Z",
     "iopub.status.idle": "2024-03-16T12:35:44.238906Z",
     "shell.execute_reply": "2024-03-16T12:35:44.239384Z",
     "shell.execute_reply.started": "2021-10-03T08:53:04.4558Z"
    },
    "papermill": {
     "duration": 0.08491,
     "end_time": "2024-03-16T12:35:44.239592",
     "exception": false,
     "start_time": "2024-03-16T12:35:44.154682",
     "status": "completed"
    },
    "tags": []
   },
   "outputs": [],
   "source": [
    "crop_summary_P = crop_summary.sort_values(by='P', ascending=False)\n",
    "  \n",
    "fig = make_subplots(rows=1, cols=2)\n",
    "\n",
    "top = {\n",
    "    'y' : crop_summary_P['P'][0:10].sort_values().index,\n",
    "    'x' : crop_summary_P['P'][0:10].sort_values()\n",
    "}\n",
    "\n",
    "last = {\n",
    "    'y' : crop_summary_P['P'][-10:].index,\n",
    "    'x' : crop_summary_P['P'][-10:]\n",
    "}\n",
    "\n",
    "fig.add_trace(\n",
    "    go.Bar(top,\n",
    "           name=\"Most phosphorus required\",\n",
    "           marker_color=random.choice(colorarr),\n",
    "           orientation='h',\n",
    "          text=top['x']),\n",
    "    \n",
    "    row=1, col=1\n",
    ")\n",
    "\n",
    "fig.add_trace(\n",
    "    go.Bar(last,\n",
    "           name=\"Least phosphorus required\",\n",
    "           marker_color=random.choice(colorarr),\n",
    "           orientation='h',\n",
    "          text=last['x']),\n",
    "    row=1, col=2\n",
    ")\n",
    "fig.update_traces(texttemplate='%{text}', textposition='inside')\n",
    "fig.update_layout(title_text=\"Phosphorus (P)\",\n",
    "                  plot_bgcolor='white',\n",
    "                  font_size=12, \n",
    "                  font_color='black',\n",
    "                 height=500)\n",
    "\n",
    "fig.update_xaxes(showgrid=False)\n",
    "fig.update_yaxes(showgrid=False)\n",
    "fig.show()\n"
   ]
  },
  {
   "cell_type": "markdown",
   "id": "5eb6ae61",
   "metadata": {
    "papermill": {
     "duration": 0.035278,
     "end_time": "2024-03-16T12:35:44.310791",
     "exception": false,
     "start_time": "2024-03-16T12:35:44.275513",
     "status": "completed"
    },
    "tags": []
   },
   "source": [
    "<h3 style='color:Red'>Potassium analysis</h3>"
   ]
  },
  {
   "cell_type": "code",
   "execution_count": null,
   "id": "0d5e46fd",
   "metadata": {
    "execution": {
     "iopub.execute_input": "2024-03-16T12:35:44.392841Z",
     "iopub.status.busy": "2024-03-16T12:35:44.391762Z",
     "iopub.status.idle": "2024-03-16T12:35:44.433913Z",
     "shell.execute_reply": "2024-03-16T12:35:44.434400Z",
     "shell.execute_reply.started": "2021-10-03T08:53:04.511528Z"
    },
    "papermill": {
     "duration": 0.087652,
     "end_time": "2024-03-16T12:35:44.434606",
     "exception": false,
     "start_time": "2024-03-16T12:35:44.346954",
     "status": "completed"
    },
    "tags": []
   },
   "outputs": [],
   "source": [
    "crop_summary_K = crop_summary.sort_values(by='K', ascending=False)\n",
    "  \n",
    "fig = make_subplots(rows=1, cols=2)\n",
    "\n",
    "top = {\n",
    "    'y' : crop_summary_K['K'][0:10].sort_values().index,\n",
    "    'x' : crop_summary_K['K'][0:10].sort_values()\n",
    "}\n",
    "\n",
    "last = {\n",
    "    'y' : crop_summary_K['K'][-10:].index,\n",
    "    'x' : crop_summary_K['K'][-10:]\n",
    "}\n",
    "\n",
    "fig.add_trace(\n",
    "    go.Bar(top,\n",
    "           name=\"Most potassium required\",\n",
    "           marker_color=random.choice(colorarr),\n",
    "           orientation='h',\n",
    "          text=top['x']),\n",
    "    \n",
    "    row=1, col=1\n",
    ")\n",
    "\n",
    "fig.add_trace(\n",
    "    go.Bar(last,\n",
    "           name=\"Least potassium required\",\n",
    "           marker_color=random.choice(colorarr),\n",
    "           orientation='h',\n",
    "          text=last['x']),\n",
    "    row=1, col=2\n",
    ")\n",
    "fig.update_traces(texttemplate='%{text}', textposition='inside')\n",
    "fig.update_layout(title_text=\"Potassium (K)\",\n",
    "                  plot_bgcolor='white',\n",
    "                  font_size=12, \n",
    "                  font_color='black',\n",
    "                 height=500)\n",
    "\n",
    "fig.update_xaxes(showgrid=False)\n",
    "fig.update_yaxes(showgrid=False)\n",
    "fig.show()\n"
   ]
  },
  {
   "cell_type": "markdown",
   "id": "26d28f75",
   "metadata": {
    "papermill": {
     "duration": 0.036217,
     "end_time": "2024-03-16T12:35:44.507262",
     "exception": false,
     "start_time": "2024-03-16T12:35:44.471045",
     "status": "completed"
    },
    "tags": []
   },
   "source": [
    "<h3 style='color:Red'>N, P, K values comparision between crops</h3>"
   ]
  },
  {
   "cell_type": "code",
   "execution_count": null,
   "id": "42ad43de",
   "metadata": {
    "execution": {
     "iopub.execute_input": "2024-03-16T12:35:44.583641Z",
     "iopub.status.busy": "2024-03-16T12:35:44.582914Z",
     "iopub.status.idle": "2024-03-16T12:35:44.601888Z",
     "shell.execute_reply": "2024-03-16T12:35:44.602416Z",
     "shell.execute_reply.started": "2021-10-03T08:53:04.564346Z"
    },
    "papermill": {
     "duration": 0.058776,
     "end_time": "2024-03-16T12:35:44.602625",
     "exception": false,
     "start_time": "2024-03-16T12:35:44.543849",
     "status": "completed"
    },
    "tags": []
   },
   "outputs": [],
   "source": [
    "fig = go.Figure()\n",
    "fig.add_trace(go.Bar(\n",
    "    x=crop_summary.index,\n",
    "    y=crop_summary['N'],\n",
    "    name='Nitrogen',\n",
    "    marker_color='indianred'\n",
    "))\n",
    "fig.add_trace(go.Bar(\n",
    "    x=crop_summary.index,\n",
    "    y=crop_summary['P'],\n",
    "    name='Phosphorous',\n",
    "    marker_color='lightsalmon'\n",
    "))\n",
    "fig.add_trace(go.Bar(\n",
    "    x=crop_summary.index,\n",
    "    y=crop_summary['K'],\n",
    "    name='Potash',\n",
    "    marker_color='crimson'\n",
    "))\n",
    "\n",
    "fig.update_layout(title=\"N, P, K values comparision between crops\",\n",
    "                  plot_bgcolor='white',\n",
    "                  barmode='group',\n",
    "                  xaxis_tickangle=-45)\n",
    "\n",
    "fig.show()"
   ]
  },
  {
   "cell_type": "markdown",
   "id": "c7c83115",
   "metadata": {
    "papermill": {
     "duration": 0.036767,
     "end_time": "2024-03-16T12:35:44.676811",
     "exception": false,
     "start_time": "2024-03-16T12:35:44.640044",
     "status": "completed"
    },
    "tags": []
   },
   "source": [
    "<h3 style='color:Red'>NPK ratio for rice, cotton, jute, maize, lentil </h3>"
   ]
  },
  {
   "cell_type": "code",
   "execution_count": null,
   "id": "ae12af4d",
   "metadata": {
    "execution": {
     "iopub.execute_input": "2024-03-16T12:35:44.755350Z",
     "iopub.status.busy": "2024-03-16T12:35:44.754535Z",
     "iopub.status.idle": "2024-03-16T12:35:44.832705Z",
     "shell.execute_reply": "2024-03-16T12:35:44.832118Z",
     "shell.execute_reply.started": "2021-10-03T08:53:04.588232Z"
    },
    "papermill": {
     "duration": 0.118769,
     "end_time": "2024-03-16T12:35:44.832879",
     "exception": false,
     "start_time": "2024-03-16T12:35:44.714110",
     "status": "completed"
    },
    "tags": []
   },
   "outputs": [],
   "source": [
    "labels = ['Nitrogen(N)','Phosphorous(P)','Potash(K)']\n",
    "fig = make_subplots(rows=1, cols=5, specs=[[{'type':'domain'}, {'type':'domain'},\n",
    "                                            {'type':'domain'}, {'type':'domain'}, \n",
    "                                            {'type':'domain'}]])\n",
    "\n",
    "rice_npk = crop_summary[crop_summary.index=='rice']\n",
    "values = [rice_npk['N'][0], rice_npk['P'][0], rice_npk['K'][0]]\n",
    "fig.add_trace(go.Pie(labels=labels, values=values,name=\"Rice\"),1, 1)\n",
    "\n",
    "cotton_npk = crop_summary[crop_summary.index=='cotton']\n",
    "values = [cotton_npk['N'][0], cotton_npk['P'][0], cotton_npk['K'][0]]\n",
    "fig.add_trace(go.Pie(labels=labels, values=values,name=\"Cotton\"),1, 2)\n",
    "\n",
    "jute_npk = crop_summary[crop_summary.index=='jute']\n",
    "values = [jute_npk['N'][0], jute_npk['P'][0], jute_npk['K'][0]]\n",
    "fig.add_trace(go.Pie(labels=labels, values=values,name=\"Jute\"),1, 3)\n",
    "\n",
    "maize_npk = crop_summary[crop_summary.index=='maize']\n",
    "values = [maize_npk['N'][0], maize_npk['P'][0], maize_npk['K'][0]]\n",
    "fig.add_trace(go.Pie(labels=labels, values=values,name=\"Maize\"),1, 4)\n",
    "\n",
    "lentil_npk = crop_summary[crop_summary.index=='lentil']\n",
    "values = [lentil_npk['N'][0], lentil_npk['P'][0], lentil_npk['K'][0]]\n",
    "fig.add_trace(go.Pie(labels=labels, values=values,name=\"Lentil\"),1, 5)\n",
    "\n",
    "fig.update_traces(hole=.4, hoverinfo=\"label+percent+name\")\n",
    "fig.update_layout(\n",
    "    title_text=\"NPK ratio for rice, cotton, jute, maize, lentil\",\n",
    "    annotations=[dict(text='Rice',x=0.06,y=0.8, font_size=15, showarrow=False),\n",
    "                 dict(text='Cotton',x=0.26,y=0.8, font_size=15, showarrow=False),\n",
    "                 dict(text='Jute',x=0.50,y=0.8, font_size=15, showarrow=False),\n",
    "                 dict(text='Maize',x=0.74,y=0.8, font_size=15, showarrow=False),\n",
    "                dict(text='Lentil',x=0.94,y=0.8, font_size=15, showarrow=False)])\n",
    "fig.show()\n"
   ]
  },
  {
   "cell_type": "markdown",
   "id": "7289fbc5",
   "metadata": {
    "papermill": {
     "duration": 0.037604,
     "end_time": "2024-03-16T12:35:44.910291",
     "exception": false,
     "start_time": "2024-03-16T12:35:44.872687",
     "status": "completed"
    },
    "tags": []
   },
   "source": [
    "<h3 style='color:Red'>NPK ratio for fruits</h3>"
   ]
  },
  {
   "cell_type": "code",
   "execution_count": null,
   "id": "a60b9172",
   "metadata": {
    "execution": {
     "iopub.execute_input": "2024-03-16T12:35:44.991103Z",
     "iopub.status.busy": "2024-03-16T12:35:44.990282Z",
     "iopub.status.idle": "2024-03-16T12:35:45.060330Z",
     "shell.execute_reply": "2024-03-16T12:35:45.060899Z",
     "shell.execute_reply.started": "2021-10-03T08:53:04.686917Z"
    },
    "papermill": {
     "duration": 0.112266,
     "end_time": "2024-03-16T12:35:45.061088",
     "exception": false,
     "start_time": "2024-03-16T12:35:44.948822",
     "status": "completed"
    },
    "tags": []
   },
   "outputs": [],
   "source": [
    "labels = ['Nitrogen(N)','Phosphorous(P)','Potash(K)']\n",
    "specs = [[{'type':'domain'}, {'type':'domain'}, {'type':'domain'}, {'type':'domain'}, {'type':'domain'}],[\n",
    "         {'type':'domain'}, {'type':'domain'}, {'type':'domain'}, {'type':'domain'}, {'type':'domain'}]]\n",
    "fig = make_subplots(rows=2, cols=5, specs=specs)\n",
    "cafe_colors =  ['rgb(255, 128, 0)', 'rgb(0, 153, 204)', 'rgb(173, 173, 133)']\n",
    "\n",
    "apple_npk = crop_summary[crop_summary.index=='apple']\n",
    "values = [apple_npk['N'][0], apple_npk['P'][0], apple_npk['K'][0]]\n",
    "fig.add_trace(go.Pie(labels=labels, values=values,name=\"Apple\", marker_colors=cafe_colors),1, 1)\n",
    "\n",
    "banana_npk = crop_summary[crop_summary.index=='banana']\n",
    "values = [banana_npk['N'][0], banana_npk['P'][0], banana_npk['K'][0]]\n",
    "fig.add_trace(go.Pie(labels=labels, values=values,name=\"Banana\", marker_colors=cafe_colors),1, 2)\n",
    "\n",
    "grapes_npk = crop_summary[crop_summary.index=='grapes']\n",
    "values = [grapes_npk['N'][0], grapes_npk['P'][0], grapes_npk['K'][0]]\n",
    "fig.add_trace(go.Pie(labels=labels, values=values,name=\"Grapes\", marker_colors=cafe_colors),1, 3)\n",
    "\n",
    "orange_npk = crop_summary[crop_summary.index=='orange']\n",
    "values = [orange_npk['N'][0], orange_npk['P'][0], orange_npk['K'][0]]\n",
    "fig.add_trace(go.Pie(labels=labels, values=values,name=\"Orange\", marker_colors=cafe_colors),1, 4)\n",
    "\n",
    "mango_npk = crop_summary[crop_summary.index=='mango']\n",
    "values = [mango_npk['N'][0], mango_npk['P'][0], mango_npk['K'][0]]\n",
    "fig.add_trace(go.Pie(labels=labels, values=values,name=\"Mango\", marker_colors=cafe_colors),1, 5)\n",
    "\n",
    "coconut_npk = crop_summary[crop_summary.index=='coconut']\n",
    "values = [coconut_npk['N'][0], coconut_npk['P'][0], coconut_npk['K'][0]]\n",
    "fig.add_trace(go.Pie(labels=labels, values=values,name=\"Coconut\", marker_colors=cafe_colors),2, 1)\n",
    "\n",
    "papaya_npk = crop_summary[crop_summary.index=='papaya']\n",
    "values = [papaya_npk['N'][0], papaya_npk['P'][0], papaya_npk['K'][0]]\n",
    "fig.add_trace(go.Pie(labels=labels, values=values,name=\"Papaya\", marker_colors=cafe_colors),2, 2)\n",
    "\n",
    "pomegranate_npk = crop_summary[crop_summary.index=='pomegranate']\n",
    "values = [pomegranate_npk['N'][0], pomegranate_npk['P'][0], pomegranate_npk['K'][0]]\n",
    "fig.add_trace(go.Pie(labels=labels, values=values,name=\"Pomegranate\", marker_colors=cafe_colors),2, 3)\n",
    "\n",
    "watermelon_npk = crop_summary[crop_summary.index=='watermelon']\n",
    "values = [watermelon_npk['N'][0], watermelon_npk['P'][0], watermelon_npk['K'][0]]\n",
    "fig.add_trace(go.Pie(labels=labels, values=values,name=\"Watermelon\", marker_colors=cafe_colors),2, 4)\n",
    "\n",
    "muskmelon_npk = crop_summary[crop_summary.index=='muskmelon']\n",
    "values = [muskmelon_npk['N'][0], muskmelon_npk['P'][0], muskmelon_npk['K'][0]]\n",
    "fig.add_trace(go.Pie(labels=labels, values=values,name=\"Muskmelon\", marker_colors=cafe_colors),2, 5)\n",
    "\n",
    "fig.update_layout(\n",
    "    title_text=\"NPK ratio for fruits\",\n",
    "    annotations=[dict(text='Apple',x=0.06,y=1.08, font_size=15, showarrow=False),\n",
    "                 dict(text='Banana',x=0.26,y=1.08, font_size=15, showarrow=False),\n",
    "                 dict(text='Grapes',x=0.50,y=1.08, font_size=15, showarrow=False),\n",
    "                 dict(text='Orange',x=0.74,y=1.08, font_size=15, showarrow=False),\n",
    "                dict(text='Mango',x=0.94,y=1.08, font_size=15, showarrow=False),\n",
    "                dict(text='Coconut',x=0.06,y=0.46, font_size=15, showarrow=False),\n",
    "                 dict(text='Papaya',x=0.26,y=0.46, font_size=15, showarrow=False),\n",
    "                 dict(text='Pomegranate',x=0.50,y=0.46, font_size=15, showarrow=False),\n",
    "                 dict(text='Watermelon',x=0.74,y=0.46, font_size=15, showarrow=False),\n",
    "                dict(text='Muskmelon',x=0.94,y=0.46, font_size=15, showarrow=False)])\n",
    "fig.show()\n"
   ]
  },
  {
   "cell_type": "code",
   "execution_count": null,
   "id": "35ef1e72",
   "metadata": {
    "execution": {
     "iopub.execute_input": "2024-03-16T12:35:45.149668Z",
     "iopub.status.busy": "2024-03-16T12:35:45.146679Z",
     "iopub.status.idle": "2024-03-16T12:35:45.973397Z",
     "shell.execute_reply": "2024-03-16T12:35:45.973952Z",
     "shell.execute_reply.started": "2021-10-03T08:53:04.773279Z"
    },
    "papermill": {
     "duration": 0.873442,
     "end_time": "2024-03-16T12:35:45.974165",
     "exception": false,
     "start_time": "2024-03-16T12:35:45.100723",
     "status": "completed"
    },
    "tags": []
   },
   "outputs": [],
   "source": [
    "crop_scatter = cropdf[(cropdf['label']=='rice') | \n",
    "                      (cropdf['label']=='jute') | \n",
    "                      (cropdf['label']=='cotton') |\n",
    "                     (cropdf['label']=='maize') |\n",
    "                     (cropdf['label']=='lentil')]\n",
    "\n",
    "fig = px.scatter(crop_scatter, x=\"temperature\", y=\"humidity\", color=\"label\", symbol=\"label\")\n",
    "fig.update_layout(plot_bgcolor='white')\n",
    "fig.update_xaxes(showgrid=False)\n",
    "fig.update_yaxes(showgrid=False)\n",
    "\n",
    "fig.show()"
   ]
  },
  {
   "cell_type": "code",
   "execution_count": null,
   "id": "2d268c19",
   "metadata": {
    "execution": {
     "iopub.execute_input": "2024-03-16T12:35:46.062427Z",
     "iopub.status.busy": "2024-03-16T12:35:46.061655Z",
     "iopub.status.idle": "2024-03-16T12:35:46.152095Z",
     "shell.execute_reply": "2024-03-16T12:35:46.151372Z",
     "shell.execute_reply.started": "2021-10-03T08:53:05.65474Z"
    },
    "papermill": {
     "duration": 0.136632,
     "end_time": "2024-03-16T12:35:46.152267",
     "exception": false,
     "start_time": "2024-03-16T12:35:46.015635",
     "status": "completed"
    },
    "tags": []
   },
   "outputs": [],
   "source": [
    "fig = px.bar(crop_summary, x=crop_summary.index, y=[\"rainfall\", \"temperature\", \"humidity\"])\n",
    "fig.update_layout(title_text=\"Comparision between rainfall, temerature and humidity\",\n",
    "                  plot_bgcolor='white',\n",
    "                 height=500)\n",
    "\n",
    "fig.update_xaxes(showgrid=False)\n",
    "fig.update_yaxes(showgrid=False)\n",
    "fig.show()"
   ]
  },
  {
   "cell_type": "markdown",
   "id": "adadbc81",
   "metadata": {
    "papermill": {
     "duration": 0.042724,
     "end_time": "2024-03-16T12:35:46.237209",
     "exception": false,
     "start_time": "2024-03-16T12:35:46.194485",
     "status": "completed"
    },
    "tags": []
   },
   "source": [
    "<h3 style='color:Red'>Correlation between different features </h3>"
   ]
  },
  {
   "cell_type": "code",
   "execution_count": null,
   "id": "3a32aa4a",
   "metadata": {
    "execution": {
     "iopub.execute_input": "2024-03-16T12:35:46.326671Z",
     "iopub.status.busy": "2024-03-16T12:35:46.325886Z",
     "iopub.status.idle": "2024-03-16T12:35:46.886846Z",
     "shell.execute_reply": "2024-03-16T12:35:46.887402Z",
     "shell.execute_reply.started": "2021-10-03T08:53:05.749016Z"
    },
    "papermill": {
     "duration": 0.607586,
     "end_time": "2024-03-16T12:35:46.887654",
     "exception": false,
     "start_time": "2024-03-16T12:35:46.280068",
     "status": "completed"
    },
    "tags": []
   },
   "outputs": [],
   "source": [
    "fig, ax = plt.subplots(1, 1, figsize=(15, 9))\n",
    "sns.heatmap(cropdf.corr(), annot=True,cmap='Wistia' )\n",
    "ax.set(xlabel='features')\n",
    "ax.set(ylabel='features')\n",
    "\n",
    "plt.title('Correlation between different features', fontsize = 15, c='black')\n",
    "plt.show()"
   ]
  },
  {
   "cell_type": "markdown",
   "id": "37d4da01",
   "metadata": {
    "papermill": {
     "duration": 0.043904,
     "end_time": "2024-03-16T12:35:46.975804",
     "exception": false,
     "start_time": "2024-03-16T12:35:46.931900",
     "status": "completed"
    },
    "tags": []
   },
   "source": [
    "<h1 style='color:blue'>Declare independent and target variables</h1>"
   ]
  },
  {
   "cell_type": "code",
   "execution_count": null,
   "id": "c0253e73",
   "metadata": {
    "execution": {
     "iopub.execute_input": "2024-03-16T12:35:47.069444Z",
     "iopub.status.busy": "2024-03-16T12:35:47.068738Z",
     "iopub.status.idle": "2024-03-16T12:35:47.070953Z",
     "shell.execute_reply": "2024-03-16T12:35:47.071426Z",
     "shell.execute_reply.started": "2021-10-03T08:53:06.322868Z"
    },
    "papermill": {
     "duration": 0.053089,
     "end_time": "2024-03-16T12:35:47.071649",
     "exception": false,
     "start_time": "2024-03-16T12:35:47.018560",
     "status": "completed"
    },
    "tags": []
   },
   "outputs": [],
   "source": [
    "X = cropdf.drop('label', axis=1)\n",
    "y = cropdf['label']"
   ]
  },
  {
   "cell_type": "markdown",
   "id": "170fbdd9",
   "metadata": {
    "papermill": {
     "duration": 0.042829,
     "end_time": "2024-03-16T12:35:47.157929",
     "exception": false,
     "start_time": "2024-03-16T12:35:47.115100",
     "status": "completed"
    },
    "tags": []
   },
   "source": [
    "<h1 style='color:blue'>Split dataset into training and test set</h1>"
   ]
  },
  {
   "cell_type": "code",
   "execution_count": null,
   "id": "ae8d3dea",
   "metadata": {
    "execution": {
     "iopub.execute_input": "2024-03-16T12:35:47.251179Z",
     "iopub.status.busy": "2024-03-16T12:35:47.250400Z",
     "iopub.status.idle": "2024-03-16T12:35:47.415389Z",
     "shell.execute_reply": "2024-03-16T12:35:47.414791Z",
     "shell.execute_reply.started": "2021-10-03T08:53:06.331112Z"
    },
    "papermill": {
     "duration": 0.214508,
     "end_time": "2024-03-16T12:35:47.415611",
     "exception": false,
     "start_time": "2024-03-16T12:35:47.201103",
     "status": "completed"
    },
    "tags": []
   },
   "outputs": [],
   "source": [
    "from sklearn.model_selection import train_test_split\n",
    "X_train, X_test, y_train, y_test = train_test_split(X, y, test_size = 0.3,\n",
    "                                                    shuffle = True, random_state = 0)"
   ]
  },
  {
   "cell_type": "markdown",
   "id": "c3e8901e",
   "metadata": {
    "execution": {
     "iopub.execute_input": "2021-09-19T12:16:20.708652Z",
     "iopub.status.busy": "2021-09-19T12:16:20.708318Z",
     "iopub.status.idle": "2021-09-19T12:16:20.715198Z",
     "shell.execute_reply": "2021-09-19T12:16:20.714015Z",
     "shell.execute_reply.started": "2021-09-19T12:16:20.708621Z"
    },
    "papermill": {
     "duration": 0.042957,
     "end_time": "2024-03-16T12:35:47.501122",
     "exception": false,
     "start_time": "2024-03-16T12:35:47.458165",
     "status": "completed"
    },
    "tags": []
   },
   "source": [
    "<h1 style='color:blue'>LightGBM Model Building and Training</h1>"
   ]
  },
  {
   "cell_type": "code",
   "execution_count": null,
   "id": "a40591d4",
   "metadata": {
    "execution": {
     "iopub.execute_input": "2024-03-16T12:35:47.590495Z",
     "iopub.status.busy": "2024-03-16T12:35:47.589486Z",
     "iopub.status.idle": "2024-03-16T12:35:49.347476Z",
     "shell.execute_reply": "2024-03-16T12:35:49.348182Z",
     "shell.execute_reply.started": "2021-10-03T08:53:06.515493Z"
    },
    "papermill": {
     "duration": 1.804783,
     "end_time": "2024-03-16T12:35:49.348479",
     "exception": false,
     "start_time": "2024-03-16T12:35:47.543696",
     "status": "completed"
    },
    "tags": []
   },
   "outputs": [],
   "source": [
    "# build the lightgbm model\n",
    "import lightgbm as lgb\n",
    "\n",
    "model = lgb.LGBMClassifier()\n",
    "model.fit(X_train, y_train)"
   ]
  },
  {
   "cell_type": "markdown",
   "id": "18ac439d",
   "metadata": {
    "papermill": {
     "duration": 0.043486,
     "end_time": "2024-03-16T12:35:49.435381",
     "exception": false,
     "start_time": "2024-03-16T12:35:49.391895",
     "status": "completed"
    },
    "tags": []
   },
   "source": [
    "<h1 style='color:blue'>Model Prediction</h1>"
   ]
  },
  {
   "cell_type": "code",
   "execution_count": null,
   "id": "9ca91445",
   "metadata": {
    "execution": {
     "iopub.execute_input": "2024-03-16T12:35:49.525887Z",
     "iopub.status.busy": "2024-03-16T12:35:49.524881Z",
     "iopub.status.idle": "2024-03-16T12:35:49.562472Z",
     "shell.execute_reply": "2024-03-16T12:35:49.563120Z",
     "shell.execute_reply.started": "2021-10-03T08:53:08.168857Z"
    },
    "papermill": {
     "duration": 0.084804,
     "end_time": "2024-03-16T12:35:49.563322",
     "exception": false,
     "start_time": "2024-03-16T12:35:49.478518",
     "status": "completed"
    },
    "tags": []
   },
   "outputs": [],
   "source": [
    "# predict the results\n",
    "y_pred=model.predict(X_test)"
   ]
  },
  {
   "cell_type": "markdown",
   "id": "6382e672",
   "metadata": {
    "papermill": {
     "duration": 0.043265,
     "end_time": "2024-03-16T12:35:49.649838",
     "exception": false,
     "start_time": "2024-03-16T12:35:49.606573",
     "status": "completed"
    },
    "tags": []
   },
   "source": [
    "<h1 style='color:blue'>View Accuracy</h1>"
   ]
  },
  {
   "cell_type": "code",
   "execution_count": null,
   "id": "d41d616e",
   "metadata": {
    "execution": {
     "iopub.execute_input": "2024-03-16T12:35:49.744555Z",
     "iopub.status.busy": "2024-03-16T12:35:49.743809Z",
     "iopub.status.idle": "2024-03-16T12:35:49.746433Z",
     "shell.execute_reply": "2024-03-16T12:35:49.746976Z",
     "shell.execute_reply.started": "2021-10-03T08:53:08.211521Z"
    },
    "papermill": {
     "duration": 0.054042,
     "end_time": "2024-03-16T12:35:49.747172",
     "exception": false,
     "start_time": "2024-03-16T12:35:49.693130",
     "status": "completed"
    },
    "tags": []
   },
   "outputs": [],
   "source": [
    "# view accuracy\n",
    "from sklearn.metrics import accuracy_score\n",
    "\n",
    "accuracy=accuracy_score(y_pred, y_test)\n",
    "print('LightGBM Model accuracy score: {0:0.4f}'.format(accuracy_score(y_test, y_pred)))"
   ]
  },
  {
   "cell_type": "markdown",
   "id": "2fa9727c",
   "metadata": {
    "papermill": {
     "duration": 0.043378,
     "end_time": "2024-03-16T12:35:49.834068",
     "exception": false,
     "start_time": "2024-03-16T12:35:49.790690",
     "status": "completed"
    },
    "tags": []
   },
   "source": [
    "<h1 style='color:blue'>Compare train and test set accuracy</h1>"
   ]
  },
  {
   "cell_type": "code",
   "execution_count": null,
   "id": "7c69d890",
   "metadata": {
    "execution": {
     "iopub.execute_input": "2024-03-16T12:35:49.924550Z",
     "iopub.status.busy": "2024-03-16T12:35:49.923846Z",
     "iopub.status.idle": "2024-03-16T12:35:50.017994Z",
     "shell.execute_reply": "2024-03-16T12:35:50.018723Z",
     "shell.execute_reply.started": "2021-10-03T08:53:08.222487Z"
    },
    "papermill": {
     "duration": 0.141477,
     "end_time": "2024-03-16T12:35:50.018924",
     "exception": false,
     "start_time": "2024-03-16T12:35:49.877447",
     "status": "completed"
    },
    "tags": []
   },
   "outputs": [],
   "source": [
    "y_pred_train = model.predict(X_train)\n",
    "print('Training-set accuracy score: {0:0.4f}'. format(accuracy_score(y_train, y_pred_train)))"
   ]
  },
  {
   "cell_type": "markdown",
   "id": "0fae14fc",
   "metadata": {
    "papermill": {
     "duration": 0.049581,
     "end_time": "2024-03-16T12:35:50.115365",
     "exception": false,
     "start_time": "2024-03-16T12:35:50.065784",
     "status": "completed"
    },
    "tags": []
   },
   "source": [
    "<h1 style='color:blue'>Check for Overfitting</h1>"
   ]
  },
  {
   "cell_type": "code",
   "execution_count": null,
   "id": "836e834e",
   "metadata": {
    "execution": {
     "iopub.execute_input": "2024-03-16T12:35:50.219781Z",
     "iopub.status.busy": "2024-03-16T12:35:50.218853Z",
     "iopub.status.idle": "2024-03-16T12:35:50.330941Z",
     "shell.execute_reply": "2024-03-16T12:35:50.331617Z",
     "shell.execute_reply.started": "2021-10-03T08:53:08.316064Z"
    },
    "papermill": {
     "duration": 0.160306,
     "end_time": "2024-03-16T12:35:50.331829",
     "exception": false,
     "start_time": "2024-03-16T12:35:50.171523",
     "status": "completed"
    },
    "tags": []
   },
   "outputs": [],
   "source": [
    "# print the scores on training and test set\n",
    "\n",
    "print('Training set score: {:.4f}'.format(model.score(X_train, y_train)))\n",
    "print('Test set score: {:.4f}'.format(model.score(X_test, y_test)))"
   ]
  },
  {
   "cell_type": "markdown",
   "id": "dadb70c8",
   "metadata": {
    "papermill": {
     "duration": 0.043885,
     "end_time": "2024-03-16T12:35:50.421498",
     "exception": false,
     "start_time": "2024-03-16T12:35:50.377613",
     "status": "completed"
    },
    "tags": []
   },
   "source": [
    "<h1 style='color:blue'>Confusion-matrix</h1>"
   ]
  },
  {
   "cell_type": "code",
   "execution_count": null,
   "id": "3860b5e0",
   "metadata": {
    "execution": {
     "iopub.execute_input": "2024-03-16T12:35:50.514542Z",
     "iopub.status.busy": "2024-03-16T12:35:50.513440Z",
     "iopub.status.idle": "2024-03-16T12:35:52.572494Z",
     "shell.execute_reply": "2024-03-16T12:35:52.573024Z",
     "shell.execute_reply.started": "2021-10-03T08:53:08.442395Z"
    },
    "papermill": {
     "duration": 2.107481,
     "end_time": "2024-03-16T12:35:52.573224",
     "exception": false,
     "start_time": "2024-03-16T12:35:50.465743",
     "status": "completed"
    },
    "tags": []
   },
   "outputs": [],
   "source": [
    "# view confusion-matrix\n",
    "# Print the Confusion Matrix and slice it into four pieces\n",
    "\n",
    "from sklearn.metrics import confusion_matrix\n",
    "cm = confusion_matrix(y_test, y_pred)\n",
    "\n",
    "plt.figure(figsize=(15,15))\n",
    "sns.heatmap(cm, annot=True, fmt=\".0f\", linewidths=.5, square = True, cmap = 'Blues');\n",
    "plt.ylabel('Actual label');\n",
    "plt.xlabel('Predicted label');\n",
    "all_sample_title = 'Confusion Matrix - score:'+str(accuracy_score(y_test,y_pred))\n",
    "plt.title(all_sample_title, size = 15);\n",
    "plt.show()"
   ]
  },
  {
   "cell_type": "markdown",
   "id": "d836773d",
   "metadata": {
    "papermill": {
     "duration": 0.045507,
     "end_time": "2024-03-16T12:35:52.664865",
     "exception": false,
     "start_time": "2024-03-16T12:35:52.619358",
     "status": "completed"
    },
    "tags": []
   },
   "source": [
    "<h1 style='color:blue'>Classification Metrices</h1>"
   ]
  },
  {
   "cell_type": "code",
   "execution_count": null,
   "id": "6b808533",
   "metadata": {
    "execution": {
     "iopub.execute_input": "2024-03-16T12:35:52.766825Z",
     "iopub.status.busy": "2024-03-16T12:35:52.765967Z",
     "iopub.status.idle": "2024-03-16T12:35:52.785230Z",
     "shell.execute_reply": "2024-03-16T12:35:52.785823Z",
     "shell.execute_reply.started": "2021-10-03T08:53:10.652162Z"
    },
    "papermill": {
     "duration": 0.075458,
     "end_time": "2024-03-16T12:35:52.786013",
     "exception": false,
     "start_time": "2024-03-16T12:35:52.710555",
     "status": "completed"
    },
    "tags": []
   },
   "outputs": [],
   "source": [
    "from sklearn.metrics import classification_report\n",
    "print(classification_report(y_test, y_pred))"
   ]
  },
  {
   "cell_type": "code",
   "execution_count": null,
   "id": "3629e03b",
   "metadata": {
    "execution": {
     "iopub.execute_input": "2024-03-16T12:35:52.883560Z",
     "iopub.status.busy": "2024-03-16T12:35:52.882550Z",
     "iopub.status.idle": "2024-03-16T12:35:52.892104Z",
     "shell.execute_reply": "2024-03-16T12:35:52.892651Z",
     "shell.execute_reply.started": "2021-10-03T08:53:10.693044Z"
    },
    "papermill": {
     "duration": 0.059808,
     "end_time": "2024-03-16T12:35:52.892838",
     "exception": false,
     "start_time": "2024-03-16T12:35:52.833030",
     "status": "completed"
    },
    "tags": []
   },
   "outputs": [],
   "source": [
    "newdata=model.predict([[90, 42, 43, 20.879744, 75, 5.5,220]])\n",
    "newdata"
   ]
  }
 ],
 "metadata": {
  "kaggle": {
   "accelerator": "none",
   "dataSources": [
    {
     "datasetId": 1046158,
     "sourceId": 1760012,
     "sourceType": "datasetVersion"
    }
   ],
   "dockerImageVersionId": 30123,
   "isGpuEnabled": false,
   "isInternetEnabled": false,
   "language": "python",
   "sourceType": "notebook"
  },
  "kernelspec": {
   "display_name": "Python 3 (ipykernel)",
   "language": "python",
   "name": "python3"
  },
  "language_info": {
   "codemirror_mode": {
    "name": "ipython",
    "version": 3
   },
   "file_extension": ".py",
   "mimetype": "text/x-python",
   "name": "python",
   "nbconvert_exporter": "python",
   "pygments_lexer": "ipython3",
   "version": "3.10.9"
  },
  "papermill": {
   "default_parameters": {},
   "duration": 21.604691,
   "end_time": "2024-03-16T12:35:53.749528",
   "environment_variables": {},
   "exception": null,
   "input_path": "__notebook__.ipynb",
   "output_path": "__notebook__.ipynb",
   "parameters": {},
   "start_time": "2024-03-16T12:35:32.144837",
   "version": "2.3.3"
  }
 },
 "nbformat": 4,
 "nbformat_minor": 5
}
