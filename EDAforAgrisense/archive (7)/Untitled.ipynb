{
 "cells": [
  {
   "cell_type": "code",
   "execution_count": 1,
   "id": "7e7c3aff",
   "metadata": {},
   "outputs": [],
   "source": [
    "import numpy as np \n",
    "import pandas as pd\n",
    "import seaborn as sns \n",
    "import matplotlib.pyplot as plt"
   ]
  },
  {
   "cell_type": "code",
   "execution_count": 2,
   "id": "2befef6a",
   "metadata": {},
   "outputs": [],
   "source": [
    "df=pd.read_csv('datasets - datasets.csv')"
   ]
  },
  {
   "cell_type": "code",
   "execution_count": 3,
   "id": "a17d97f9",
   "metadata": {},
   "outputs": [
    {
     "data": {
      "text/html": [
       "<div>\n",
       "<style scoped>\n",
       "    .dataframe tbody tr th:only-of-type {\n",
       "        vertical-align: middle;\n",
       "    }\n",
       "\n",
       "    .dataframe tbody tr th {\n",
       "        vertical-align: top;\n",
       "    }\n",
       "\n",
       "    .dataframe thead th {\n",
       "        text-align: right;\n",
       "    }\n",
       "</style>\n",
       "<table border=\"1\" class=\"dataframe\">\n",
       "  <thead>\n",
       "    <tr style=\"text-align: right;\">\n",
       "      <th></th>\n",
       "      <th>CropType</th>\n",
       "      <th>CropDays</th>\n",
       "      <th>SoilMoisture</th>\n",
       "      <th>temperature</th>\n",
       "      <th>Humidity</th>\n",
       "      <th>Irrigation</th>\n",
       "    </tr>\n",
       "  </thead>\n",
       "  <tbody>\n",
       "    <tr>\n",
       "      <th>0</th>\n",
       "      <td>Wheat</td>\n",
       "      <td>10</td>\n",
       "      <td>400</td>\n",
       "      <td>30</td>\n",
       "      <td>15</td>\n",
       "      <td>0</td>\n",
       "    </tr>\n",
       "    <tr>\n",
       "      <th>1</th>\n",
       "      <td>Wheat</td>\n",
       "      <td>7</td>\n",
       "      <td>200</td>\n",
       "      <td>30</td>\n",
       "      <td>32</td>\n",
       "      <td>0</td>\n",
       "    </tr>\n",
       "    <tr>\n",
       "      <th>2</th>\n",
       "      <td>Wheat</td>\n",
       "      <td>9</td>\n",
       "      <td>300</td>\n",
       "      <td>21</td>\n",
       "      <td>28</td>\n",
       "      <td>0</td>\n",
       "    </tr>\n",
       "    <tr>\n",
       "      <th>3</th>\n",
       "      <td>Wheat</td>\n",
       "      <td>3</td>\n",
       "      <td>500</td>\n",
       "      <td>40</td>\n",
       "      <td>22</td>\n",
       "      <td>0</td>\n",
       "    </tr>\n",
       "    <tr>\n",
       "      <th>4</th>\n",
       "      <td>Wheat</td>\n",
       "      <td>2</td>\n",
       "      <td>700</td>\n",
       "      <td>23</td>\n",
       "      <td>34</td>\n",
       "      <td>0</td>\n",
       "    </tr>\n",
       "  </tbody>\n",
       "</table>\n",
       "</div>"
      ],
      "text/plain": [
       "  CropType  CropDays  SoilMoisture  temperature  Humidity  Irrigation\n",
       "0    Wheat        10           400           30        15           0\n",
       "1    Wheat         7           200           30        32           0\n",
       "2    Wheat         9           300           21        28           0\n",
       "3    Wheat         3           500           40        22           0\n",
       "4    Wheat         2           700           23        34           0"
      ]
     },
     "execution_count": 3,
     "metadata": {},
     "output_type": "execute_result"
    }
   ],
   "source": [
    "df.head()"
   ]
  },
  {
   "cell_type": "code",
   "execution_count": 4,
   "id": "870dba12",
   "metadata": {},
   "outputs": [
    {
     "name": "stderr",
     "output_type": "stream",
     "text": [
      "C:\\Users\\Windows 11\\AppData\\Local\\Temp\\ipykernel_13792\\1134722465.py:1: FutureWarning: The default value of numeric_only in DataFrame.corr is deprecated. In a future version, it will default to False. Select only valid columns or specify the value of numeric_only to silence this warning.\n",
      "  df.corr()\n"
     ]
    },
    {
     "data": {
      "text/html": [
       "<div>\n",
       "<style scoped>\n",
       "    .dataframe tbody tr th:only-of-type {\n",
       "        vertical-align: middle;\n",
       "    }\n",
       "\n",
       "    .dataframe tbody tr th {\n",
       "        vertical-align: top;\n",
       "    }\n",
       "\n",
       "    .dataframe thead th {\n",
       "        text-align: right;\n",
       "    }\n",
       "</style>\n",
       "<table border=\"1\" class=\"dataframe\">\n",
       "  <thead>\n",
       "    <tr style=\"text-align: right;\">\n",
       "      <th></th>\n",
       "      <th>CropDays</th>\n",
       "      <th>SoilMoisture</th>\n",
       "      <th>temperature</th>\n",
       "      <th>Humidity</th>\n",
       "      <th>Irrigation</th>\n",
       "    </tr>\n",
       "  </thead>\n",
       "  <tbody>\n",
       "    <tr>\n",
       "      <th>CropDays</th>\n",
       "      <td>1.000000</td>\n",
       "      <td>0.143137</td>\n",
       "      <td>0.067895</td>\n",
       "      <td>-0.062217</td>\n",
       "      <td>-0.091861</td>\n",
       "    </tr>\n",
       "    <tr>\n",
       "      <th>SoilMoisture</th>\n",
       "      <td>0.143137</td>\n",
       "      <td>1.000000</td>\n",
       "      <td>0.086820</td>\n",
       "      <td>-0.236571</td>\n",
       "      <td>0.690537</td>\n",
       "    </tr>\n",
       "    <tr>\n",
       "      <th>temperature</th>\n",
       "      <td>0.067895</td>\n",
       "      <td>0.086820</td>\n",
       "      <td>1.000000</td>\n",
       "      <td>-0.350852</td>\n",
       "      <td>0.102169</td>\n",
       "    </tr>\n",
       "    <tr>\n",
       "      <th>Humidity</th>\n",
       "      <td>-0.062217</td>\n",
       "      <td>-0.236571</td>\n",
       "      <td>-0.350852</td>\n",
       "      <td>1.000000</td>\n",
       "      <td>-0.190810</td>\n",
       "    </tr>\n",
       "    <tr>\n",
       "      <th>Irrigation</th>\n",
       "      <td>-0.091861</td>\n",
       "      <td>0.690537</td>\n",
       "      <td>0.102169</td>\n",
       "      <td>-0.190810</td>\n",
       "      <td>1.000000</td>\n",
       "    </tr>\n",
       "  </tbody>\n",
       "</table>\n",
       "</div>"
      ],
      "text/plain": [
       "              CropDays  SoilMoisture  temperature  Humidity  Irrigation\n",
       "CropDays      1.000000      0.143137     0.067895 -0.062217   -0.091861\n",
       "SoilMoisture  0.143137      1.000000     0.086820 -0.236571    0.690537\n",
       "temperature   0.067895      0.086820     1.000000 -0.350852    0.102169\n",
       "Humidity     -0.062217     -0.236571    -0.350852  1.000000   -0.190810\n",
       "Irrigation   -0.091861      0.690537     0.102169 -0.190810    1.000000"
      ]
     },
     "execution_count": 4,
     "metadata": {},
     "output_type": "execute_result"
    }
   ],
   "source": [
    "df.corr()"
   ]
  },
  {
   "cell_type": "code",
   "execution_count": 5,
   "id": "aa60ed4d",
   "metadata": {},
   "outputs": [
    {
     "name": "stderr",
     "output_type": "stream",
     "text": [
      "C:\\Users\\Windows 11\\AppData\\Local\\Temp\\ipykernel_13792\\1545644723.py:1: FutureWarning: The default value of numeric_only in DataFrame.cov is deprecated. In a future version, it will default to False. Select only valid columns or specify the value of numeric_only to silence this warning.\n",
      "  df.cov()\n"
     ]
    },
    {
     "data": {
      "text/html": [
       "<div>\n",
       "<style scoped>\n",
       "    .dataframe tbody tr th:only-of-type {\n",
       "        vertical-align: middle;\n",
       "    }\n",
       "\n",
       "    .dataframe tbody tr th {\n",
       "        vertical-align: top;\n",
       "    }\n",
       "\n",
       "    .dataframe thead th {\n",
       "        text-align: right;\n",
       "    }\n",
       "</style>\n",
       "<table border=\"1\" class=\"dataframe\">\n",
       "  <thead>\n",
       "    <tr style=\"text-align: right;\">\n",
       "      <th></th>\n",
       "      <th>CropDays</th>\n",
       "      <th>SoilMoisture</th>\n",
       "      <th>temperature</th>\n",
       "      <th>Humidity</th>\n",
       "      <th>Irrigation</th>\n",
       "    </tr>\n",
       "  </thead>\n",
       "  <tbody>\n",
       "    <tr>\n",
       "      <th>CropDays</th>\n",
       "      <td>2110.075090</td>\n",
       "      <td>1309.094874</td>\n",
       "      <td>37.773138</td>\n",
       "      <td>-64.642587</td>\n",
       "      <td>-2.063234</td>\n",
       "    </tr>\n",
       "    <tr>\n",
       "      <th>SoilMoisture</th>\n",
       "      <td>1309.094874</td>\n",
       "      <td>39640.646643</td>\n",
       "      <td>209.358407</td>\n",
       "      <td>-1065.343445</td>\n",
       "      <td>67.223860</td>\n",
       "    </tr>\n",
       "    <tr>\n",
       "      <th>temperature</th>\n",
       "      <td>37.773138</td>\n",
       "      <td>209.358407</td>\n",
       "      <td>146.689078</td>\n",
       "      <td>-96.112766</td>\n",
       "      <td>0.605042</td>\n",
       "    </tr>\n",
       "    <tr>\n",
       "      <th>Humidity</th>\n",
       "      <td>-64.642587</td>\n",
       "      <td>-1065.343445</td>\n",
       "      <td>-96.112766</td>\n",
       "      <td>511.584367</td>\n",
       "      <td>-2.110208</td>\n",
       "    </tr>\n",
       "    <tr>\n",
       "      <th>Irrigation</th>\n",
       "      <td>-2.063234</td>\n",
       "      <td>67.223860</td>\n",
       "      <td>0.605042</td>\n",
       "      <td>-2.110208</td>\n",
       "      <td>0.239074</td>\n",
       "    </tr>\n",
       "  </tbody>\n",
       "</table>\n",
       "</div>"
      ],
      "text/plain": [
       "                 CropDays  SoilMoisture  temperature     Humidity  Irrigation\n",
       "CropDays      2110.075090   1309.094874    37.773138   -64.642587   -2.063234\n",
       "SoilMoisture  1309.094874  39640.646643   209.358407 -1065.343445   67.223860\n",
       "temperature     37.773138    209.358407   146.689078   -96.112766    0.605042\n",
       "Humidity       -64.642587  -1065.343445   -96.112766   511.584367   -2.110208\n",
       "Irrigation      -2.063234     67.223860     0.605042    -2.110208    0.239074"
      ]
     },
     "execution_count": 5,
     "metadata": {},
     "output_type": "execute_result"
    }
   ],
   "source": [
    "df.cov()"
   ]
  },
  {
   "cell_type": "code",
   "execution_count": 7,
   "id": "2124c640",
   "metadata": {},
   "outputs": [
    {
     "data": {
      "text/plain": [
       "array(['Wheat', 'Groundnuts', 'Garden Flowers', 'Maize', 'Paddy',\n",
       "       'Potato', 'Pulse', 'Sugarcane', 'Coffee'], dtype=object)"
      ]
     },
     "execution_count": 7,
     "metadata": {},
     "output_type": "execute_result"
    }
   ],
   "source": [
    "df['CropType'].unique()"
   ]
  },
  {
   "cell_type": "code",
   "execution_count": null,
   "id": "8f6c3023",
   "metadata": {},
   "outputs": [],
   "source": []
  }
 ],
 "metadata": {
  "kernelspec": {
   "display_name": "Python 3 (ipykernel)",
   "language": "python",
   "name": "python3"
  },
  "language_info": {
   "codemirror_mode": {
    "name": "ipython",
    "version": 3
   },
   "file_extension": ".py",
   "mimetype": "text/x-python",
   "name": "python",
   "nbconvert_exporter": "python",
   "pygments_lexer": "ipython3",
   "version": "3.10.9"
  }
 },
 "nbformat": 4,
 "nbformat_minor": 5
}
